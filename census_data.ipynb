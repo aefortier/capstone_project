{
 "cells": [
  {
   "cell_type": "code",
   "execution_count": 121,
   "metadata": {},
   "outputs": [],
   "source": [
    "import requests\n",
    "import pandas as pd\n",
    "from variable_dict import variable_dict as vd\n",
    "import time\n",
    "import pickle\n",
    "import numpy as np\n",
    "from sklearn.linear_model import LinearRegression"
   ]
  },
  {
   "cell_type": "code",
   "execution_count": 3,
   "metadata": {},
   "outputs": [],
   "source": [
    "cen_vars = sorted(vd.keys())"
   ]
  },
  {
   "cell_type": "code",
   "execution_count": 77,
   "metadata": {},
   "outputs": [
    {
     "data": {
      "text/plain": [
       "246"
      ]
     },
     "execution_count": 77,
     "metadata": {},
     "output_type": "execute_result"
    }
   ],
   "source": [
    "len(cen_vars)"
   ]
  },
  {
   "cell_type": "code",
   "execution_count": 14,
   "metadata": {},
   "outputs": [],
   "source": [
    "var_list1 = cen_vars[0:50]\n",
    "var_list2 = cen_vars[50:100]\n",
    "var_list3 = cen_vars[100:150]\n",
    "var_list4 = cen_vars[150:200]\n",
    "var_list5 = cen_vars[200:300]"
   ]
  },
  {
   "cell_type": "code",
   "execution_count": 30,
   "metadata": {},
   "outputs": [
    {
     "data": {
      "text/plain": [
       "'B01001B_002E,B01001B_017E,B01001C_002E,B01001C_017E,B01001D_002E,B01001D_017E,B01001E_002E,B01001E_017E,B01001F_002E,B01001F_017E,B01001G_002E,B01001G_017E,B01001H_002E,B01001H_017E,B01001I_002E,B01001I_017E,B01001_003E,B01001_004E,B01001_005E,B01001_006E,B01001_007E,B01001_008E,B01001_009E,B01001_010E,B01001_011E,B01001_012E,B01001_013E,B01001_014E,B01001_015E,B01001_016E,B01001_017E,B01001_018E,B01001_019E,B01001_020E,B01001_021E,B01001_022E,B01001_023E,B01001_024E,B01001_025E,B01001_027E,B01001_028E,B01001_029E,B01001_030E,B01001_031E,B01001_032E,B01001_033E,B01001_034E,B01001_035E,B01001_036E,B01001_037E'"
      ]
     },
     "execution_count": 30,
     "metadata": {},
     "output_type": "execute_result"
    }
   ],
   "source": [
    "var_string1 = ''\n",
    "for x in var_list1:\n",
    "    x = str(x)\n",
    "    var_string1 = var_string1 + x + ',' \n",
    "drop = len(var_string1)\n",
    "drop = drop - 1\n",
    "var_string1 = var_string1[:drop]\n",
    "var_string1"
   ]
  },
  {
   "cell_type": "code",
   "execution_count": 33,
   "metadata": {},
   "outputs": [
    {
     "data": {
      "text/plain": [
       "'B01001_038E,B01001_039E,B01001_040E,B01001_041E,B01001_042E,B01001_043E,B01001_044E,B01001_045E,B01001_046E,B01001_047E,B01001_048E,B01001_049E,B15001_004E,B15001_005E,B15001_006E,B15001_007E,B15001_008E,B15001_009E,B15001_010E,B15001_012E,B15001_013E,B15001_014E,B15001_015E,B15001_016E,B15001_017E,B15001_018E,B15001_020E,B15001_021E,B15001_022E,B15001_023E,B15001_024E,B15001_025E,B15001_026E,B15001_028E,B15001_029E,B15001_030E,B15001_031E,B15001_032E,B15001_033E,B15001_034E,B15001_036E,B15001_037E,B15001_038E,B15001_039E,B15001_040E,B15001_041E,B15001_042E,B15001_045E,B15001_046E,B15001_047E'"
      ]
     },
     "execution_count": 33,
     "metadata": {},
     "output_type": "execute_result"
    }
   ],
   "source": [
    "var_string2 = ''\n",
    "for x in var_list2:\n",
    "    x = str(x)\n",
    "    var_string2 = var_string2 + x + ',' \n",
    "drop = len(var_string2)\n",
    "drop = drop - 1\n",
    "var_string2 = var_string2[:drop]\n",
    "var_string2"
   ]
  },
  {
   "cell_type": "code",
   "execution_count": 34,
   "metadata": {},
   "outputs": [
    {
     "data": {
      "text/plain": [
       "'B15001_048E,B15001_049E,B15001_050E,B15001_051E,B15001_053E,B15001_054E,B15001_055E,B15001_056E,B15001_057E,B15001_058E,B15001_059E,B15001_061E,B15001_062E,B15001_063E,B15001_064E,B15001_065E,B15001_066E,B15001_067E,B15001_069E,B15001_070E,B15001_071E,B15001_072E,B15001_073E,B15001_074E,B15001_075E,B15001_077E,B15001_078E,B15001_079E,B15001_080E,B15001_081E,B15001_082E,B15001_083E,B19101_002E,B19101_003E,B19101_004E,B19101_005E,B19101_006E,B19101_007E,B19101_008E,B19101_009E,B19101_010E,B19101_011E,B19101_012E,B19101_013E,B19101_014E,B19101_015E,B19101_016E,B19101_017E,B23001_005E,B23001_007E'"
      ]
     },
     "execution_count": 34,
     "metadata": {},
     "output_type": "execute_result"
    }
   ],
   "source": [
    "var_string3 = ''\n",
    "for x in var_list3:\n",
    "    x = str(x)\n",
    "    var_string3 = var_string3 + x + ',' \n",
    "drop = len(var_string3)\n",
    "drop = drop - 1\n",
    "var_string3 = var_string3[:drop]\n",
    "var_string3"
   ]
  },
  {
   "cell_type": "code",
   "execution_count": 35,
   "metadata": {},
   "outputs": [
    {
     "data": {
      "text/plain": [
       "'B23001_008E,B23001_009E,B23001_012E,B23001_014E,B23001_015E,B23001_016E,B23001_019E,B23001_021E,B23001_022E,B23001_023E,B23001_026E,B23001_028E,B23001_029E,B23001_030E,B23001_033E,B23001_035E,B23001_036E,B23001_037E,B23001_040E,B23001_042E,B23001_043E,B23001_044E,B23001_047E,B23001_049E,B23001_050E,B23001_051E,B23001_054E,B23001_056E,B23001_057E,B23001_058E,B23001_061E,B23001_063E,B23001_064E,B23001_065E,B23001_068E,B23001_070E,B23001_071E,B23001_072E,B23001_075E,B23001_076E,B23001_077E,B23001_080E,B23001_081E,B23001_082E,B23001_085E,B23001_086E,B23001_087E,B23001_091E,B23001_093E,B23001_094E'"
      ]
     },
     "execution_count": 35,
     "metadata": {},
     "output_type": "execute_result"
    }
   ],
   "source": [
    "var_string4 = ''\n",
    "for x in var_list4:\n",
    "    x = str(x)\n",
    "    var_string4 = var_string4 + x + ',' \n",
    "drop = len(var_string4)\n",
    "drop = drop - 1\n",
    "var_string4 = var_string4[:drop]\n",
    "var_string4"
   ]
  },
  {
   "cell_type": "code",
   "execution_count": 37,
   "metadata": {},
   "outputs": [
    {
     "data": {
      "text/plain": [
       "'B23001_095E,B23001_098E,B23001_100E,B23001_101E,B23001_102E,B23001_105E,B23001_107E,B23001_108E,B23001_109E,B23001_112E,B23001_114E,B23001_115E,B23001_116E,B23001_119E,B23001_121E,B23001_122E,B23001_123E,B23001_126E,B23001_128E,B23001_129E,B23001_130E,B23001_133E,B23001_135E,B23001_136E,B23001_137E,B23001_140E,B23001_142E,B23001_143E,B23001_144E,B23001_147E,B23001_149E,B23001_150E,B23001_151E,B23001_154E,B23001_156E,B23001_157E,B23001_158E,B23001_161E,B23001_162E,B23001_163E,B23001_166E,B23001_167E,B23001_168E,B23001_171E,B23001_172E,B23001_173E'"
      ]
     },
     "execution_count": 37,
     "metadata": {},
     "output_type": "execute_result"
    }
   ],
   "source": [
    "var_string5 = ''\n",
    "for x in var_list5:\n",
    "    x = str(x)\n",
    "    var_string5 = var_string5 + x + ',' \n",
    "drop = len(var_string5)\n",
    "drop = drop - 1\n",
    "var_string5 = var_string5[:drop]\n",
    "var_string5"
   ]
  },
  {
   "cell_type": "code",
   "execution_count": 38,
   "metadata": {},
   "outputs": [],
   "source": [
    "var_string_list = [var_string1, var_string2, var_string3, var_string4, var_string5]"
   ]
  },
  {
   "cell_type": "code",
   "execution_count": 39,
   "metadata": {},
   "outputs": [],
   "source": [
    "acs_2009_data = []\n",
    "for x in var_string_list:\n",
    "    time.sleep(30)\n",
    "    json_resp = requests.get('https://api.census.gov/data/2009/acs5?get=' + \n",
    "                  x + '&for=county:*&in=state:08').json()\n",
    "    acs_2009_data.append(json_resp)"
   ]
  },
  {
   "cell_type": "code",
   "execution_count": 42,
   "metadata": {},
   "outputs": [],
   "source": [
    "with open('acs_2009_data.pickle', 'wb') as f:\n",
    "    pickle.dump(acs_2009_data, f)"
   ]
  },
  {
   "cell_type": "code",
   "execution_count": 43,
   "metadata": {},
   "outputs": [],
   "source": [
    "acs_2011_data = []\n",
    "for x in var_string_list:\n",
    "    time.sleep(30)\n",
    "    json_resp = requests.get('https://api.census.gov/data/2011/acs/acs5?get=' + \n",
    "                  x + '&for=county:*&in=state:08').json()\n",
    "    acs_2011_data.append(json_resp)"
   ]
  },
  {
   "cell_type": "code",
   "execution_count": 44,
   "metadata": {},
   "outputs": [],
   "source": [
    "with open('acs_2011_data.pickle', 'wb') as f:\n",
    "    pickle.dump(acs_2011_data, f)"
   ]
  },
  {
   "cell_type": "code",
   "execution_count": 45,
   "metadata": {},
   "outputs": [],
   "source": [
    "acs_2012_data = []\n",
    "for x in var_string_list:\n",
    "    time.sleep(30)\n",
    "    json_resp = requests.get('https://api.census.gov/data/2012/acs/acs5?get=' + \n",
    "                  x + '&for=county:*&in=state:08').json()\n",
    "    acs_2012_data.append(json_resp)"
   ]
  },
  {
   "cell_type": "code",
   "execution_count": 46,
   "metadata": {},
   "outputs": [],
   "source": [
    "with open('acs_2012_data.pickle', 'wb') as f:\n",
    "    pickle.dump(acs_2012_data, f)"
   ]
  },
  {
   "cell_type": "code",
   "execution_count": 47,
   "metadata": {},
   "outputs": [],
   "source": [
    "acs_2013_data = []\n",
    "for x in var_string_list:\n",
    "    time.sleep(30)\n",
    "    json_resp = requests.get('https://api.census.gov/data/2013/acs/acs5?get=' + \n",
    "                  x + '&for=county:*&in=state:08').json()\n",
    "    acs_2013_data.append(json_resp)"
   ]
  },
  {
   "cell_type": "code",
   "execution_count": 48,
   "metadata": {},
   "outputs": [],
   "source": [
    "with open('acs_2013_data.pickle', 'wb') as f:\n",
    "    pickle.dump(acs_2013_data, f)"
   ]
  },
  {
   "cell_type": "code",
   "execution_count": 50,
   "metadata": {},
   "outputs": [],
   "source": [
    "acs_2014_data = []\n",
    "for x in var_string_list:\n",
    "    time.sleep(30)\n",
    "    json_resp = requests.get('https://api.census.gov/data/2014/acs/acs5?get=' + \n",
    "                  x + '&for=county:*&in=state:08').json()\n",
    "    acs_2014_data.append(json_resp)"
   ]
  },
  {
   "cell_type": "code",
   "execution_count": 51,
   "metadata": {},
   "outputs": [],
   "source": [
    "with open('acs_2014_data.pickle', 'wb') as f:\n",
    "    pickle.dump(acs_2014_data, f)"
   ]
  },
  {
   "cell_type": "code",
   "execution_count": 52,
   "metadata": {},
   "outputs": [],
   "source": [
    "acs_2015_data = []\n",
    "for x in var_string_list:\n",
    "    time.sleep(30)\n",
    "    json_resp = requests.get('https://api.census.gov/data/2015/acs/acs5?get=' + \n",
    "                  x + '&for=county:*&in=state:08').json()\n",
    "    acs_2015_data.append(json_resp)"
   ]
  },
  {
   "cell_type": "code",
   "execution_count": 53,
   "metadata": {},
   "outputs": [],
   "source": [
    "with open('acs_2015_data.pickle', 'wb') as f:\n",
    "    pickle.dump(acs_2015_data, f)"
   ]
  },
  {
   "cell_type": "code",
   "execution_count": 54,
   "metadata": {},
   "outputs": [],
   "source": [
    "acs_2016_data = []\n",
    "for x in var_string_list:\n",
    "    time.sleep(30)\n",
    "    json_resp = requests.get('https://api.census.gov/data/2016/acs/acs5?get=' + \n",
    "                  x + '&for=county:*&in=state:08').json()\n",
    "    acs_2016_data.append(json_resp)"
   ]
  },
  {
   "cell_type": "code",
   "execution_count": 55,
   "metadata": {},
   "outputs": [],
   "source": [
    "with open('acs_2016_data.pickle', 'wb') as f:\n",
    "    pickle.dump(acs_2016_data, f)"
   ]
  },
  {
   "cell_type": "code",
   "execution_count": 56,
   "metadata": {},
   "outputs": [],
   "source": [
    "acs_2017_data = []\n",
    "for x in var_string_list:\n",
    "    time.sleep(30)\n",
    "    json_resp = requests.get('https://api.census.gov/data/2017/acs/acs5?get=' + \n",
    "                  x + '&for=county:*&in=state:08').json()\n",
    "    acs_2017_data.append(json_resp)"
   ]
  },
  {
   "cell_type": "code",
   "execution_count": 57,
   "metadata": {},
   "outputs": [],
   "source": [
    "with open('acs_2017_data.pickle', 'wb') as f:\n",
    "    pickle.dump(acs_2017_data, f)"
   ]
  },
  {
   "cell_type": "code",
   "execution_count": 85,
   "metadata": {
    "scrolled": true
   },
   "outputs": [],
   "source": [
    "acs_2009 = pd.DataFrame(acs_2009_data[0])\n",
    "acs_2009.columns = acs_2009.iloc[0]\n",
    "acs_2009 = acs_2009.drop(0)\n",
    "acs_2009 = acs_2009[['county', 'state']]\n",
    "for x in acs_2009_data:\n",
    "    new = pd.DataFrame(x)\n",
    "    new.columns = new.iloc[0]\n",
    "    new = new.drop(0)\n",
    "    acs_2009 = acs_2009.merge(new, how = 'left', on = ['county', 'state'])\n",
    "acs_2009['year'] = 2009"
   ]
  },
  {
   "cell_type": "code",
   "execution_count": 86,
   "metadata": {},
   "outputs": [],
   "source": [
    "acs_2011 = pd.DataFrame(acs_2011_data[0])\n",
    "acs_2011.columns = acs_2011.iloc[0]\n",
    "acs_2011 = acs_2011.drop(0)\n",
    "acs_2011 = acs_2011[['county', 'state']]\n",
    "for x in acs_2011_data:\n",
    "    new = pd.DataFrame(x)\n",
    "    new.columns = new.iloc[0]\n",
    "    new = new.drop(0)\n",
    "    acs_2011 = acs_2011.merge(new, how = 'left', on = ['county', 'state'])\n",
    "acs_2011['year'] = 2011"
   ]
  },
  {
   "cell_type": "code",
   "execution_count": 87,
   "metadata": {},
   "outputs": [],
   "source": [
    "acs_2012 = pd.DataFrame(acs_2012_data[0])\n",
    "acs_2012.columns = acs_2012.iloc[0]\n",
    "acs_2012 = acs_2012.drop(0)\n",
    "acs_2012 = acs_2012[['county', 'state']]\n",
    "for x in acs_2012_data:\n",
    "    new = pd.DataFrame(x)\n",
    "    new.columns = new.iloc[0]\n",
    "    new = new.drop(0)\n",
    "    acs_2012 = acs_2012.merge(new, how = 'left', on = ['county', 'state'])\n",
    "acs_2012['year'] = 2012"
   ]
  },
  {
   "cell_type": "code",
   "execution_count": 88,
   "metadata": {},
   "outputs": [],
   "source": [
    "acs_2013 = pd.DataFrame(acs_2013_data[0])\n",
    "acs_2013.columns = acs_2013.iloc[0]\n",
    "acs_2013 = acs_2013.drop(0)\n",
    "acs_2013 = acs_2013[['county', 'state']]\n",
    "for x in acs_2013_data:\n",
    "    new = pd.DataFrame(x)\n",
    "    new.columns = new.iloc[0]\n",
    "    new = new.drop(0)\n",
    "    acs_2013 = acs_2013.merge(new, how = 'left', on = ['county', 'state'])\n",
    "acs_2013['year'] = 2013"
   ]
  },
  {
   "cell_type": "code",
   "execution_count": 89,
   "metadata": {},
   "outputs": [],
   "source": [
    "acs_2014 = pd.DataFrame(acs_2014_data[0])\n",
    "acs_2014.columns = acs_2014.iloc[0]\n",
    "acs_2014 = acs_2014.drop(0)\n",
    "acs_2014 = acs_2014[['county', 'state']]\n",
    "for x in acs_2014_data:\n",
    "    new = pd.DataFrame(x)\n",
    "    new.columns = new.iloc[0]\n",
    "    new = new.drop(0)\n",
    "    acs_2014 = acs_2014.merge(new, how = 'left', on = ['county', 'state'])\n",
    "acs_2014['year'] = 2014"
   ]
  },
  {
   "cell_type": "code",
   "execution_count": 90,
   "metadata": {},
   "outputs": [],
   "source": [
    "acs_2015 = pd.DataFrame(acs_2015_data[0])\n",
    "acs_2015.columns = acs_2015.iloc[0]\n",
    "acs_2015 = acs_2015.drop(0)\n",
    "acs_2015 = acs_2015[['county', 'state']]\n",
    "for x in acs_2015_data:\n",
    "    new = pd.DataFrame(x)\n",
    "    new.columns = new.iloc[0]\n",
    "    new = new.drop(0)\n",
    "    acs_2015 = acs_2015.merge(new, how = 'left', on = ['county', 'state'])\n",
    "acs_2015['year'] = 2015"
   ]
  },
  {
   "cell_type": "code",
   "execution_count": 91,
   "metadata": {},
   "outputs": [],
   "source": [
    "acs_2016 = pd.DataFrame(acs_2016_data[0])\n",
    "acs_2016.columns = acs_2016.iloc[0]\n",
    "acs_2016 = acs_2016.drop(0)\n",
    "acs_2016 = acs_2016[['county', 'state']]\n",
    "for x in acs_2016_data:\n",
    "    new = pd.DataFrame(x)\n",
    "    new.columns = new.iloc[0]\n",
    "    new = new.drop(0)\n",
    "    acs_2016 = acs_2016.merge(new, how = 'left', on = ['county', 'state'])\n",
    "acs_2016['year'] = 2016"
   ]
  },
  {
   "cell_type": "code",
   "execution_count": 92,
   "metadata": {},
   "outputs": [],
   "source": [
    "acs_2017 = pd.DataFrame(acs_2017_data[0])\n",
    "acs_2017.columns = acs_2017.iloc[0]\n",
    "acs_2017 = acs_2017.drop(0)\n",
    "acs_2017 = acs_2017[['county', 'state']]\n",
    "for x in acs_2017_data:\n",
    "    new = pd.DataFrame(x)\n",
    "    new.columns = new.iloc[0]\n",
    "    new = new.drop(0)\n",
    "    acs_2017 = acs_2017.merge(new, how = 'left', on = ['county', 'state'])\n",
    "acs_2017['year'] = 2017"
   ]
  },
  {
   "cell_type": "code",
   "execution_count": 187,
   "metadata": {},
   "outputs": [],
   "source": [
    "census_data_all = pd.concat([acs_2009, acs_2011, acs_2012, acs_2013, acs_2014, acs_2015, acs_2016, acs_2017])"
   ]
  },
  {
   "cell_type": "code",
   "execution_count": 188,
   "metadata": {},
   "outputs": [],
   "source": [
    "census_data_all = census_data_all.rename(columns = vd)"
   ]
  },
  {
   "cell_type": "code",
   "execution_count": 189,
   "metadata": {},
   "outputs": [],
   "source": [
    "census_data_all = census_data_all.replace(np.nan, 0)"
   ]
  },
  {
   "cell_type": "code",
   "execution_count": 190,
   "metadata": {},
   "outputs": [],
   "source": [
    "census_data_all['state'] = 'Colorado'"
   ]
  },
  {
   "cell_type": "code",
   "execution_count": 191,
   "metadata": {},
   "outputs": [],
   "source": [
    "predict_data_2018 = []\n",
    "census_list = list(census_data_all)\n",
    "census_list.remove('county')\n",
    "census_list.remove('state')\n",
    "census_list.remove('year')\n",
    "for x in census_list:\n",
    "    d = census_data_all.groupby(['county', 'year'])[x].sum().reset_index()\n",
    "    county_list = d['county'].unique()\n",
    "    for c in county_list:\n",
    "        nd = d.loc[d['county'] == c]\n",
    "        X_train = nd[['year']]\n",
    "        y_train = nd[[x]]\n",
    "        reg = LinearRegression().fit(X_train, y_train)\n",
    "        pred_num = reg.predict([[2018]])\n",
    "        pred_num = pred_num[0][0]\n",
    "        predict_data_2018.append({\n",
    "            'year' : 2018,\n",
    "            'county' : c,\n",
    "            'var' : x,\n",
    "            'value' : pred_num\n",
    "        })\n",
    "predict_data_2020 = []\n",
    "census_list = list(census_data_all)\n",
    "census_list.remove('county')\n",
    "census_list.remove('state')\n",
    "census_list.remove('year')\n",
    "for x in census_list:\n",
    "    d = census_data_all.groupby(['county', 'year'])[x].sum().reset_index()\n",
    "    county_list = d['county'].unique()\n",
    "    for c in county_list:\n",
    "        nd = d.loc[d['county'] == c]\n",
    "        X_train = nd[['year']]\n",
    "        y_train = nd[[x]]\n",
    "        reg = LinearRegression().fit(X_train, y_train)\n",
    "        pred_num = reg.predict([[2020]])\n",
    "        pred_num = pred_num[0][0]\n",
    "        predict_data_2020.append({\n",
    "            'year' : 2020,\n",
    "            'county' : c,\n",
    "            'var' : x,\n",
    "            'value' : pred_num\n",
    "        })"
   ]
  },
  {
   "cell_type": "code",
   "execution_count": 192,
   "metadata": {},
   "outputs": [],
   "source": [
    "new_2018_data = pd.DataFrame(predict_data_2018)\n",
    "new_2020_data = pd.DataFrame(predict_data_2020)"
   ]
  },
  {
   "cell_type": "code",
   "execution_count": 193,
   "metadata": {},
   "outputs": [],
   "source": [
    "new_data = pd.concat([new_2018_data, new_2020_data])"
   ]
  },
  {
   "cell_type": "code",
   "execution_count": 194,
   "metadata": {},
   "outputs": [],
   "source": [
    "new_data = new_data.pivot_table(index = ['county', 'year'], values= 'value', aggfunc= 'sum', columns = 'var').reset_index()"
   ]
  },
  {
   "cell_type": "code",
   "execution_count": 195,
   "metadata": {},
   "outputs": [],
   "source": [
    "new_list = list(new_data)\n",
    "new_list.remove('county')\n",
    "new_list.remove('year')\n",
    "for x in new_list:\n",
    "    new_data.loc[new_data[x] < 0, x] = 0\n",
    "    new_data[x] = new_data[x].round()"
   ]
  },
  {
   "cell_type": "code",
   "execution_count": 196,
   "metadata": {},
   "outputs": [
    {
     "name": "stderr",
     "output_type": "stream",
     "text": [
      "C:\\Anaconda3\\lib\\site-packages\\ipykernel_launcher.py:2: FutureWarning: Sorting because non-concatenation axis is not aligned. A future version\n",
      "of pandas will change to not sort by default.\n",
      "\n",
      "To accept the future behavior, pass 'sort=False'.\n",
      "\n",
      "To retain the current behavior and silence the warning, pass 'sort=True'.\n",
      "\n",
      "  \n"
     ]
    }
   ],
   "source": [
    "new_data['state'] = 'Colorado'\n",
    "census_data_all = pd.concat([new_data, census_data_all])"
   ]
  },
  {
   "cell_type": "code",
   "execution_count": 197,
   "metadata": {},
   "outputs": [],
   "source": [
    "for x in census_list:\n",
    "    census_data_all[x] = census_data_all[x].astype(float)"
   ]
  },
  {
   "cell_type": "code",
   "execution_count": 198,
   "metadata": {},
   "outputs": [],
   "source": [
    "census_data_all.to_pickle('census_data_all.pkl')\n",
    "census_data_all.to_excel('census_data_all.xlsx', index = False)"
   ]
  },
  {
   "cell_type": "code",
   "execution_count": 199,
   "metadata": {},
   "outputs": [
    {
     "data": {
      "text/plain": [
       "year\n",
       "2009    64\n",
       "2011    64\n",
       "2012    64\n",
       "2013    64\n",
       "2014    64\n",
       "2015    64\n",
       "2016    64\n",
       "2017    64\n",
       "2018    64\n",
       "2020    64\n",
       "Name: county, dtype: int64"
      ]
     },
     "execution_count": 199,
     "metadata": {},
     "output_type": "execute_result"
    }
   ],
   "source": [
    "census_data_all.groupby(['year'])['county'].count()"
   ]
  },
  {
   "cell_type": "code",
   "execution_count": null,
   "metadata": {},
   "outputs": [],
   "source": []
  }
 ],
 "metadata": {
  "kernelspec": {
   "display_name": "Python 3",
   "language": "python",
   "name": "python3"
  },
  "language_info": {
   "codemirror_mode": {
    "name": "ipython",
    "version": 3
   },
   "file_extension": ".py",
   "mimetype": "text/x-python",
   "name": "python",
   "nbconvert_exporter": "python",
   "pygments_lexer": "ipython3",
   "version": "3.7.1"
  },
  "varInspector": {
   "cols": {
    "lenName": 16,
    "lenType": 16,
    "lenVar": 40
   },
   "kernels_config": {
    "python": {
     "delete_cmd_postfix": "",
     "delete_cmd_prefix": "del ",
     "library": "var_list.py",
     "varRefreshCmd": "print(var_dic_list())"
    },
    "r": {
     "delete_cmd_postfix": ") ",
     "delete_cmd_prefix": "rm(",
     "library": "var_list.r",
     "varRefreshCmd": "cat(var_dic_list()) "
    }
   },
   "types_to_exclude": [
    "module",
    "function",
    "builtin_function_or_method",
    "instance",
    "_Feature"
   ],
   "window_display": false
  }
 },
 "nbformat": 4,
 "nbformat_minor": 2
}
