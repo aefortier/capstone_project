{
 "cells": [
  {
   "cell_type": "code",
   "execution_count": 171,
   "metadata": {},
   "outputs": [],
   "source": [
    "import pandas as pd"
   ]
  },
  {
   "cell_type": "code",
   "execution_count": 172,
   "metadata": {},
   "outputs": [],
   "source": [
    "def get_winner(obj):\n",
    "    if (obj[0] > obj[1]) & (obj[0] > obj[2]):\n",
    "        winner = 'D'\n",
    "    elif (obj[1] > obj[0]) & (obj[1] > obj[2]):\n",
    "        winner = 'O'\n",
    "    elif (obj[2] > obj[0]) & (obj[2] > obj[1]):\n",
    "        winner = 'R'\n",
    "    else:\n",
    "        winner = 'None'\n",
    "    return(winner)"
   ]
  },
  {
   "cell_type": "code",
   "execution_count": 173,
   "metadata": {},
   "outputs": [],
   "source": [
    "data_2010 = pd.read_excel('2010 Federal Results.xlsx')\n",
    "data_2012 = pd.read_excel(\"2012 Federal Results.xlsx\")\n",
    "data_2014 = pd.read_excel(\"2014 Federal Results.xlsx\")\n",
    "data_2016 = pd.read_excel(\"2016 Federal Results.xlsx\")\n",
    "data_2018 = pd.read_excel(\"2018 Federal Results.xlsx\")"
   ]
  },
  {
   "cell_type": "code",
   "execution_count": 174,
   "metadata": {},
   "outputs": [],
   "source": [
    "data_2010.loc[data_2010['Party'].isin(['ACN', 'LIB', 'GRN', 'UNA', 'INR']), 'Party'] = 'Other'\n",
    "data_2010.loc[data_2010['Party'] == 'DEM', 'Party'] = 'Democrat'\n",
    "data_2010.loc[data_2010['Party'] == 'REP', 'Party'] = 'Republican'"
   ]
  },
  {
   "cell_type": "code",
   "execution_count": 175,
   "metadata": {},
   "outputs": [],
   "source": [
    "data_2010 = data_2010.drop('Precinct', axis = 1)"
   ]
  },
  {
   "cell_type": "code",
   "execution_count": 176,
   "metadata": {},
   "outputs": [],
   "source": [
    "data_2010.loc[data_2010['Office/Question'].str.contains('REPRESENTATIVE'), 'Office/Question'] = 'US Congress'\n",
    "data_2010.loc[data_2010['Office/Question'].str.contains('SENATOR'), 'Office/Question'] = 'US Senate'"
   ]
  },
  {
   "cell_type": "code",
   "execution_count": 177,
   "metadata": {},
   "outputs": [],
   "source": [
    "data_2010 = data_2010.rename(columns = {\n",
    "    'State' : 'state',\n",
    "    'Year' : 'year',\n",
    "    'Office/Question' : 'office',\n",
    "    'Party' : 'party',\n",
    "    'Votes' : 'votes',\n",
    "    'County' : 'county'\n",
    "})"
   ]
  },
  {
   "cell_type": "code",
   "execution_count": 178,
   "metadata": {},
   "outputs": [],
   "source": [
    "data_2010 = data_2010.groupby(['state', 'year', 'office', 'party', 'county'])['votes'].sum().reset_index()"
   ]
  },
  {
   "cell_type": "code",
   "execution_count": 179,
   "metadata": {},
   "outputs": [],
   "source": [
    "data_2010 = data_2010.pivot_table(index = ['state', 'year', 'office', 'county'], columns = 'party', values = 'votes', aggfunc='sum').reset_index()"
   ]
  },
  {
   "cell_type": "code",
   "execution_count": 180,
   "metadata": {},
   "outputs": [],
   "source": [
    "data_2010.loc[data_2010['Democrat'].isnull(), 'Democrat'] = 0\n",
    "data_2010.loc[data_2010['Republican'].isnull(), 'Republican'] = 0\n",
    "data_2010.loc[data_2010['Other'].isnull(), 'Other'] = 0"
   ]
  },
  {
   "cell_type": "code",
   "execution_count": 181,
   "metadata": {},
   "outputs": [],
   "source": [
    "data_2010['winner'] = data_2010[['Democrat', 'Other', 'Republican']].apply(get_winner, axis = 1)"
   ]
  },
  {
   "cell_type": "code",
   "execution_count": 182,
   "metadata": {},
   "outputs": [],
   "source": [
    "data_2010.to_excel('2010_election_data.xlsx', index = False)"
   ]
  },
  {
   "cell_type": "code",
   "execution_count": 183,
   "metadata": {},
   "outputs": [],
   "source": [
    "data_2012 = data_2012.drop(['Precinct', 'Candidate'], axis = 1)"
   ]
  },
  {
   "cell_type": "code",
   "execution_count": 184,
   "metadata": {},
   "outputs": [],
   "source": [
    "data_2012 = data_2012.rename(columns = {\n",
    "    'State' : 'state',\n",
    "    'Year' : 'year',\n",
    "    'County' : 'county',\n",
    "    'Office/Issue/Judgeship' : 'office',\n",
    "    'Party' : 'party',\n",
    "    'Candidate Votes' : 'votes'\n",
    "})"
   ]
  },
  {
   "cell_type": "code",
   "execution_count": 185,
   "metadata": {},
   "outputs": [],
   "source": [
    "data_2012.loc[data_2012['party'] == 'Republican Party', 'party'] = 'Republican'\n",
    "data_2012.loc[data_2012['party'] == 'Democratic Party', 'party'] = 'Democrat'\n",
    "data_2012.loc[~(data_2012['party'].isin(['Republican', 'Democrat'])), 'party'] = 'Other'"
   ]
  },
  {
   "cell_type": "code",
   "execution_count": 186,
   "metadata": {},
   "outputs": [],
   "source": [
    "data_2012.loc[data_2012['office'] == 'President/Vice President', 'office'] = 'President'\n",
    "data_2012.loc[data_2012['office'].str.contains('United States'), 'office'] = 'US Congress'"
   ]
  },
  {
   "cell_type": "code",
   "execution_count": 187,
   "metadata": {},
   "outputs": [],
   "source": [
    "data_2012 = data_2012.groupby(['state', 'year', 'office', 'party', 'county'])['votes'].sum().reset_index()"
   ]
  },
  {
   "cell_type": "code",
   "execution_count": 188,
   "metadata": {},
   "outputs": [],
   "source": [
    "data_2012 = data_2012.pivot_table(index = ['state', 'year', 'office', 'county'], columns = 'party', values = 'votes', aggfunc='sum').reset_index()"
   ]
  },
  {
   "cell_type": "code",
   "execution_count": 189,
   "metadata": {
    "scrolled": true
   },
   "outputs": [],
   "source": [
    "data_2012.loc[data_2012['Democrat'].isnull(), 'Democrat'] = 0\n",
    "data_2012.loc[data_2012['Republican'].isnull(), 'Republican'] = 0\n",
    "data_2012.loc[data_2012['Other'].isnull(), 'Other'] = 0"
   ]
  },
  {
   "cell_type": "code",
   "execution_count": 190,
   "metadata": {},
   "outputs": [],
   "source": [
    "data_2012['winner'] = data_2012[['Democrat', 'Other', 'Republican']].apply(get_winner, axis = 1)"
   ]
  },
  {
   "cell_type": "code",
   "execution_count": 191,
   "metadata": {},
   "outputs": [],
   "source": [
    "data_2012.to_excel('2012_election_data.xlsx', index = False)"
   ]
  },
  {
   "cell_type": "code",
   "execution_count": 192,
   "metadata": {},
   "outputs": [],
   "source": [
    "data_2014 = data_2014.drop(['Precinct', 'Candidate', 'Yes Votes', 'No Votes'], axis = 1)"
   ]
  },
  {
   "cell_type": "code",
   "execution_count": 193,
   "metadata": {},
   "outputs": [],
   "source": [
    "data_2014 = data_2014.rename(columns = {\n",
    "    'State' : 'state',\n",
    "    'Year' : 'year',\n",
    "    'County' : 'county',\n",
    "    'Office/Issue/Judgeship' : 'office',\n",
    "    'Party' : 'party',\n",
    "    'Candidate Votes' : 'votes'\n",
    "})"
   ]
  },
  {
   "cell_type": "code",
   "execution_count": 194,
   "metadata": {},
   "outputs": [],
   "source": [
    "data_2014.loc[data_2014['party'] == 'Republican Party', 'party'] = 'Republican'\n",
    "data_2014.loc[data_2014['party'] == 'Democratic Party', 'party'] = 'Democrat'\n",
    "data_2014.loc[~(data_2014['party'].isin(['Republican', 'Democrat'])), 'party'] = 'Other'"
   ]
  },
  {
   "cell_type": "code",
   "execution_count": 195,
   "metadata": {},
   "outputs": [],
   "source": [
    "data_2014.loc[data_2014['office'].str.contains('Representative'), 'office'] = 'US Congress'\n",
    "data_2014.loc[data_2014['office'].str.contains('Senator'), 'office'] = 'US Senate'"
   ]
  },
  {
   "cell_type": "code",
   "execution_count": 196,
   "metadata": {},
   "outputs": [],
   "source": [
    "data_2014 = data_2014.groupby(['state', 'year', 'office', 'party', 'county'])['votes'].sum().reset_index()"
   ]
  },
  {
   "cell_type": "code",
   "execution_count": 197,
   "metadata": {},
   "outputs": [],
   "source": [
    "data_2014 = data_2014.pivot_table(index = ['state', 'year', 'office', 'county'], columns = 'party', values = 'votes', aggfunc='sum').reset_index()"
   ]
  },
  {
   "cell_type": "code",
   "execution_count": 198,
   "metadata": {},
   "outputs": [],
   "source": [
    "data_2014.loc[data_2014['Democrat'].isnull(), 'Democrat'] = 0\n",
    "data_2014.loc[data_2014['Republican'].isnull(), 'Republican'] = 0\n",
    "data_2014.loc[data_2014['Other'].isnull(), 'Other'] = 0"
   ]
  },
  {
   "cell_type": "code",
   "execution_count": 199,
   "metadata": {},
   "outputs": [],
   "source": [
    "data_2014['winner'] = data_2014[['Democrat', 'Other', 'Republican']].apply(get_winner, axis = 1)"
   ]
  },
  {
   "cell_type": "code",
   "execution_count": 200,
   "metadata": {},
   "outputs": [],
   "source": [
    "data_2014.to_excel('2014_election_data.xlsx', index = False)"
   ]
  },
  {
   "cell_type": "code",
   "execution_count": 201,
   "metadata": {},
   "outputs": [],
   "source": [
    "data_2016['state'] = 'Colorado'\n",
    "data_2016['year'] = 2016"
   ]
  },
  {
   "cell_type": "code",
   "execution_count": 202,
   "metadata": {},
   "outputs": [],
   "source": [
    "data_2016 = data_2016.drop(['CANDIDATE / BALLOT ISSUE TITLE'], axis = 1)"
   ]
  },
  {
   "cell_type": "code",
   "execution_count": 203,
   "metadata": {},
   "outputs": [],
   "source": [
    "data_2016 = data_2016.rename(columns = {\n",
    "    'OFFICE / BALLOT ISSUE' : 'office',\n",
    "    'PARTY' : 'party',\n",
    "    'COUNTY' : 'county',\n",
    "    'YES VOTES' : 'votes'\n",
    "})"
   ]
  },
  {
   "cell_type": "code",
   "execution_count": 204,
   "metadata": {},
   "outputs": [],
   "source": [
    "data_2016.loc[data_2016['party'] == 'Republican Party', 'party'] = 'Republican'\n",
    "data_2016.loc[data_2016['party'] == 'Democratic Party', 'party'] = 'Democrat'\n",
    "data_2016.loc[~(data_2016['party'].isin(['Republican', 'Democrat'])), 'party'] = 'Other'"
   ]
  },
  {
   "cell_type": "code",
   "execution_count": 205,
   "metadata": {},
   "outputs": [],
   "source": [
    "data_2016.loc[data_2016['office'].str.contains('Representative'), 'office'] = 'US Congress'\n",
    "data_2016.loc[data_2016['office'].str.contains('President'), 'office'] = 'President'\n",
    "data_2016.loc[data_2016['office'].str.contains('Senator'), 'office'] = 'US Senate'"
   ]
  },
  {
   "cell_type": "code",
   "execution_count": 206,
   "metadata": {},
   "outputs": [],
   "source": [
    "data_2016 = data_2016.groupby(['state', 'year', 'office', 'party', 'county'])['votes'].sum().reset_index()"
   ]
  },
  {
   "cell_type": "code",
   "execution_count": 207,
   "metadata": {},
   "outputs": [],
   "source": [
    "data_2016 = data_2016.pivot_table(index = ['state', 'year', 'office', 'county'], columns = 'party', values = 'votes', aggfunc='sum').reset_index()"
   ]
  },
  {
   "cell_type": "code",
   "execution_count": 208,
   "metadata": {},
   "outputs": [],
   "source": [
    "data_2016.loc[data_2016['Democrat'].isnull(), 'Democrat'] = 0\n",
    "data_2016.loc[data_2016['Republican'].isnull(), 'Republican'] = 0\n",
    "data_2016.loc[data_2016['Other'].isnull(), 'Other'] = 0"
   ]
  },
  {
   "cell_type": "code",
   "execution_count": 209,
   "metadata": {},
   "outputs": [],
   "source": [
    "data_2016['winner'] = data_2016[['Democrat', 'Other', 'Republican']].apply(get_winner, axis = 1)"
   ]
  },
  {
   "cell_type": "code",
   "execution_count": 210,
   "metadata": {},
   "outputs": [],
   "source": [
    "data_2016.to_excel('2016_election_data.xlsx', index = False)"
   ]
  },
  {
   "cell_type": "code",
   "execution_count": 214,
   "metadata": {},
   "outputs": [],
   "source": [
    "data_2018 = data_2018.drop(['CANDIDATE/JUDGE/BALLOT TITLE', 'YES PERCENT', 'NO VOTES', 'NO PERCENT'], axis = 1)"
   ]
  },
  {
   "cell_type": "code",
   "execution_count": 216,
   "metadata": {},
   "outputs": [],
   "source": [
    "data_2018['state'] = 'Colorado'\n",
    "data_2018['year'] = 2018"
   ]
  },
  {
   "cell_type": "code",
   "execution_count": 217,
   "metadata": {},
   "outputs": [],
   "source": [
    "data_2018 = data_2018.rename(columns = {\n",
    "    'OFFICE/BALLOT ISSUE NUMBER' : 'office',\n",
    "    'PARTY' : 'party',\n",
    "    'COUNTY' : 'county',\n",
    "    'YES VOTES' : 'votes'\n",
    "})"
   ]
  },
  {
   "cell_type": "code",
   "execution_count": 220,
   "metadata": {},
   "outputs": [],
   "source": [
    "data_2018.loc[data_2018['party'] == 'Republican Party', 'party'] = 'Republican'\n",
    "data_2018.loc[data_2018['party'] == 'Democratic Party', 'party'] = 'Democrat'\n",
    "data_2018.loc[~(data_2018['party'].isin(['Republican', 'Democrat'])), 'party'] = 'Other'\n",
    "data_2018.loc[data_2018['office'].str.contains('Representative'), 'office'] = 'US Congress'\n",
    "data_2018.loc[data_2018['office'].str.contains('President'), 'office'] = 'President'\n",
    "data_2018.loc[data_2018['office'].str.contains('Senator'), 'office'] = 'US Senate'"
   ]
  },
  {
   "cell_type": "code",
   "execution_count": 223,
   "metadata": {},
   "outputs": [],
   "source": [
    "data_2018 = data_2018.groupby(['state', 'year', 'office', 'party', 'county'])['votes'].sum().reset_index()"
   ]
  },
  {
   "cell_type": "code",
   "execution_count": 224,
   "metadata": {},
   "outputs": [],
   "source": [
    "data_2018 = data_2018.pivot_table(index = ['state', 'year', 'office', 'county'], columns = 'party', values = 'votes', aggfunc='sum').reset_index()"
   ]
  },
  {
   "cell_type": "code",
   "execution_count": 226,
   "metadata": {},
   "outputs": [],
   "source": [
    "data_2018.loc[data_2018['Democrat'].isnull(), 'Democrat'] = 0\n",
    "data_2018.loc[data_2018['Republican'].isnull(), 'Republican'] = 0\n",
    "data_2018.loc[data_2018['Other'].isnull(), 'Other'] = 0"
   ]
  },
  {
   "cell_type": "code",
   "execution_count": 227,
   "metadata": {},
   "outputs": [],
   "source": [
    "data_2018['winner'] = data_2018[['Democrat', 'Other', 'Republican']].apply(get_winner, axis = 1)"
   ]
  },
  {
   "cell_type": "code",
   "execution_count": 229,
   "metadata": {},
   "outputs": [],
   "source": [
    "data_2018.to_excel('2018_election_data.xlsx', index = False)"
   ]
  },
  {
   "cell_type": "code",
   "execution_count": 230,
   "metadata": {},
   "outputs": [],
   "source": [
    "election_data_all = pd.concat([data_2010, data_2012, data_2014, data_2016, data_2018])"
   ]
  },
  {
   "cell_type": "code",
   "execution_count": 232,
   "metadata": {},
   "outputs": [],
   "source": [
    "election_data_all['state'] = 'Colorado'"
   ]
  },
  {
   "cell_type": "code",
   "execution_count": 237,
   "metadata": {},
   "outputs": [],
   "source": [
    "election_data_all['county'] = election_data_all['county'].str.title()"
   ]
  },
  {
   "cell_type": "code",
   "execution_count": 240,
   "metadata": {},
   "outputs": [],
   "source": [
    "election_data_all['county'] = election_data_all['county'] + ' County, CO'"
   ]
  },
  {
   "cell_type": "code",
   "execution_count": 242,
   "metadata": {},
   "outputs": [],
   "source": [
    "election_data_all.to_pickle('election_data_all.pkl')\n",
    "election_data_all.to_excel('election_data_all.xlsx')"
   ]
  },
  {
   "cell_type": "code",
   "execution_count": null,
   "metadata": {},
   "outputs": [],
   "source": []
  }
 ],
 "metadata": {
  "kernelspec": {
   "display_name": "Python 3",
   "language": "python",
   "name": "python3"
  },
  "language_info": {
   "codemirror_mode": {
    "name": "ipython",
    "version": 3
   },
   "file_extension": ".py",
   "mimetype": "text/x-python",
   "name": "python",
   "nbconvert_exporter": "python",
   "pygments_lexer": "ipython3",
   "version": "3.7.1"
  },
  "varInspector": {
   "cols": {
    "lenName": 16,
    "lenType": 16,
    "lenVar": 40
   },
   "kernels_config": {
    "python": {
     "delete_cmd_postfix": "",
     "delete_cmd_prefix": "del ",
     "library": "var_list.py",
     "varRefreshCmd": "print(var_dic_list())"
    },
    "r": {
     "delete_cmd_postfix": ") ",
     "delete_cmd_prefix": "rm(",
     "library": "var_list.r",
     "varRefreshCmd": "cat(var_dic_list()) "
    }
   },
   "types_to_exclude": [
    "module",
    "function",
    "builtin_function_or_method",
    "instance",
    "_Feature"
   ],
   "window_display": false
  }
 },
 "nbformat": 4,
 "nbformat_minor": 2
}
